{
 "cells": [
  {
   "cell_type": "code",
   "execution_count": null,
   "id": "bcdf8170-94fb-4f0e-94bd-7e5f4a56a459",
   "metadata": {},
   "outputs": [],
   "source": [
    "#matplotlib is used to transforman data and plot it visually.\n",
    "import matplotlib.pyplot as plt\n",
    "\n",
    "#numpy is a math library for handling mathy matricies\n",
    "import numpy as np\n",
    "\n",
    "#os is used for accessing the local computer system\n",
    "import os\n",
    "\n",
    "#image library used to handle images\n",
    "import PIL\n",
    "\n",
    "#opencv library is great for computer vision, we use it to easily access webcameras\n",
    "import cv2\n",
    "\n",
    "#libraries for ev3dev robot\n",
    "import rpyc\n",
    "conn = rpyc.classic.connect('169.254.57.162')\n",
    "\n",
    "#handy libraries\n",
    "import time\n",
    "import random\n",
    "\n",
    "#tensorflow is our machine learning library that provides a way to create, edit, save, load our models.\n",
    "import tensorflow as tf\n",
    "from tensorflow import keras\n",
    "from tensorflow.keras import layers\n",
    "from tensorflow.keras.models import Sequential"
   ]
  },
  {
   "cell_type": "code",
   "execution_count": null,
   "id": "a643bc3c-a8e1-4894-af34-7ad96d8fb686",
   "metadata": {},
   "outputs": [],
   "source": [
    "model = tf.keras.model.load_model('Saved models/20epochmay22.h5')"
   ]
  }
 ],
 "metadata": {
  "kernelspec": {
   "display_name": "Python 3",
   "language": "python",
   "name": "python3"
  },
  "language_info": {
   "codemirror_mode": {
    "name": "ipython",
    "version": 3
   },
   "file_extension": ".py",
   "mimetype": "text/x-python",
   "name": "python",
   "nbconvert_exporter": "python",
   "pygments_lexer": "ipython3",
   "version": "3.7.10"
  }
 },
 "nbformat": 4,
 "nbformat_minor": 5
}
